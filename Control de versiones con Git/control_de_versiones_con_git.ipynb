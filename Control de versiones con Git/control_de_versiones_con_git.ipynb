{
 "cells": [
  {
   "cell_type": "markdown",
   "metadata": {},
   "source": [
    "# Control de versiones con Git\n",
    "Git es un software que permite llevar el seguimiento de los cambios realizados al código fuente durante el desarrollo de software. No solo se utiliza en el ambito de desarrollo de software ya que se puede llevar el control de los cambios realizados en cualquier archivo. Git es ampliamente utilizado para la coordinación de proyectos en donde se requiere la participación de muchas personas trabajando al mismo tiempo y que comparten un conjunto de archivos en común.\n",
    "\n",
    "## Instalación de Git\n",
    "La instalción de Git es sencilla, para Windows se puede descargar de la siguiente URL: https://git-scm.com/downloads y basta con ejecutar el instalador y seguir los pasos del mismo, una vez instalado se puede ejecutar el siguiente comando desde una consola para validar que la instalación haya finalizado con éxito:"
   ]
  },
  {
   "cell_type": "code",
   "execution_count": 1,
   "metadata": {},
   "outputs": [
    {
     "name": "stdout",
     "output_type": "stream",
     "text": [
      "git version 2.21.0.windows.1\n"
     ]
    }
   ],
   "source": [
    "!git --version"
   ]
  },
  {
   "cell_type": "markdown",
   "metadata": {},
   "source": [
    "## Ayuda de Git\n",
    "Para visualizar la ayuda de git se utiliza el siguiente comando:"
   ]
  },
  {
   "cell_type": "code",
   "execution_count": 25,
   "metadata": {},
   "outputs": [
    {
     "name": "stdout",
     "output_type": "stream",
     "text": [
      "usage: git [--version] [--help] [-C <path>] [-c <name>=<value>]\n",
      "           [--exec-path[=<path>]] [--html-path] [--man-path] [--info-path]\n",
      "           [-p | --paginate | -P | --no-pager] [--no-replace-objects] [--bare]\n",
      "           [--git-dir=<path>] [--work-tree=<path>] [--namespace=<name>]\n",
      "           <command> [<args>]\n",
      "\n",
      "These are common Git commands used in various situations:\n",
      "\n",
      "start a working area (see also: git help tutorial)\n",
      "   clone      Clone a repository into a new directory\n",
      "   init       Create an empty Git repository or reinitialize an existing one\n",
      "\n",
      "work on the current change (see also: git help everyday)\n",
      "   add        Add file contents to the index\n",
      "   mv         Move or rename a file, a directory, or a symlink\n",
      "   reset      Reset current HEAD to the specified state\n",
      "   rm         Remove files from the working tree and from the index\n",
      "\n",
      "examine the history and state (see also: git help revisions)\n",
      "   bisect     Use binary search to find the commit that introduced a bug\n",
      "   grep       Print lines matching a pattern\n",
      "   log        Show commit logs\n",
      "   show       Show various types of objects\n",
      "   status     Show the working tree status\n",
      "\n",
      "grow, mark and tweak your common history\n",
      "   branch     List, create, or delete branches\n",
      "   checkout   Switch branches or restore working tree files\n",
      "   commit     Record changes to the repository\n",
      "   diff       Show changes between commits, commit and working tree, etc\n",
      "   merge      Join two or more development histories together\n",
      "   rebase     Reapply commits on top of another base tip\n",
      "   tag        Create, list, delete or verify a tag object signed with GPG\n",
      "\n",
      "collaborate (see also: git help workflows)\n",
      "   fetch      Download objects and refs from another repository\n",
      "   pull       Fetch from and integrate with another repository or a local branch\n",
      "   push       Update remote refs along with associated objects\n",
      "\n",
      "'git help -a' and 'git help -g' list available subcommands and some\n",
      "concept guides. See 'git help <command>' or 'git help <concept>'\n",
      "to read about a specific subcommand or concept.\n"
     ]
    }
   ],
   "source": [
    "!git help"
   ]
  },
  {
   "cell_type": "markdown",
   "metadata": {},
   "source": [
    "## Configurando Git\n",
    "Para configurar el email y nombre de usuario que se utilizará en git se utilizan los siguientes comandos:"
   ]
  },
  {
   "cell_type": "code",
   "execution_count": 9,
   "metadata": {},
   "outputs": [],
   "source": [
    "!git config --global user.email \"otto.ortiz@galileo.edu\"\n",
    "!git config --global user.name \"Otto Ortíz\""
   ]
  },
  {
   "cell_type": "markdown",
   "metadata": {},
   "source": [
    "## Creación de repositorio\n",
    "Uno de los primeros pasos con Git es la creación de un repositorio, para esto basta con crear un nuevo directorio y ejecutar dentro del mismo el siguiente comando."
   ]
  },
  {
   "cell_type": "code",
   "execution_count": 2,
   "metadata": {},
   "outputs": [
    {
     "name": "stdout",
     "output_type": "stream",
     "text": [
      "Initialized empty Git repository in C:/Users/Otto Ortiz/Documents/MaestrÃ­a/Primer Trimestre/Ciencia de Datos en Python/Tarea1, control de versiones/.git/\n"
     ]
    }
   ],
   "source": [
    "!git init"
   ]
  },
  {
   "cell_type": "markdown",
   "metadata": {},
   "source": [
    "## Agregando archivos al área de Staging\n",
    "Para agregar un archivo al área de Staging se debe crear el archivo (por ejemplo archivo.txt) en el directorio donde se ejecutó el comando anterior y posteriormente ejecutar el siguiente comando:"
   ]
  },
  {
   "cell_type": "code",
   "execution_count": 10,
   "metadata": {},
   "outputs": [],
   "source": [
    "!git add archivo.txt"
   ]
  },
  {
   "cell_type": "markdown",
   "metadata": {},
   "source": [
    "## Estado del repositorio\n",
    "Para ver el estado del repositorio se debe ejecutar el siguiente comando:"
   ]
  },
  {
   "cell_type": "code",
   "execution_count": 11,
   "metadata": {},
   "outputs": [
    {
     "name": "stdout",
     "output_type": "stream",
     "text": [
      "On branch master\n",
      "Untracked files:\n",
      "  (use \"git add <file>...\" to include in what will be committed)\n",
      "\n",
      "\t.ipynb_checkpoints/\n",
      "\tcontrol_de_versiones_con_git.ipynb\n",
      "\n",
      "nothing added to commit but untracked files present (use \"git add\" to track)\n"
     ]
    }
   ],
   "source": [
    "!git status"
   ]
  },
  {
   "cell_type": "markdown",
   "metadata": {},
   "source": [
    "## Confirmar los cambios en el repositorio\n",
    "Con el comando **git add archivo.txt** solo se indica que archivo.txt será parte de los archivos que Git le dará seguimiento de los cambios que tenga pero se debe confirmar que el archivo (archivo.txt) formará parte del repositorio, para esto se debe ejecutar el siguiente comando:"
   ]
  },
  {
   "cell_type": "code",
   "execution_count": 12,
   "metadata": {},
   "outputs": [
    {
     "name": "stdout",
     "output_type": "stream",
     "text": [
      "On branch master\n",
      "Untracked files:\n",
      "\t.ipynb_checkpoints/\n",
      "\tcontrol_de_versiones_con_git.ipynb\n",
      "\n",
      "nothing added to commit but untracked files present\n"
     ]
    }
   ],
   "source": [
    "!git commit -m \"Agregando archivo.txt \""
   ]
  },
  {
   "cell_type": "markdown",
   "metadata": {},
   "source": [
    "## Historial\n",
    "Para visualizar el historial de los cambios realizados en el repositorio se puede utilizar el siguiente comando:"
   ]
  },
  {
   "cell_type": "code",
   "execution_count": null,
   "metadata": {},
   "outputs": [],
   "source": [
    "!git log --all --graph --decorate"
   ]
  },
  {
   "cell_type": "markdown",
   "metadata": {},
   "source": [
    "## Visualizar diferencias entre distintas versiones de un archivo\n",
    "Para poder ver las diferencias entre varias versiones de un archivo, es necesario modificar el archivo (archivo.txt) y ejecutar el siguiente comando: **git diff archivo.txt**. Los 2 comandos siguientes se utilizan para confirmar los cambios."
   ]
  },
  {
   "cell_type": "code",
   "execution_count": 34,
   "metadata": {},
   "outputs": [
    {
     "name": "stdout",
     "output_type": "stream",
     "text": [
      "diff --git a/archivo.txt b/archivo.txt\n",
      "index e69de29..8fec5f6 100644\n",
      "--- a/archivo.txt\n",
      "+++ b/archivo.txt\n",
      "@@ -0,0 +1,3 @@\n",
      "+Este es \n",
      "+un archivo\n",
      "+de texto\n",
      "\\ No newline at end of file\n",
      "[master 0279bc8] Se agregan las lineas nuevas al archivo\n",
      " 1 file changed, 3 insertions(+)\n"
     ]
    }
   ],
   "source": [
    "!git diff archivo.txt\n",
    "!git add archivo.txt\n",
    "!git commit  -m \"Se agregan las lineas nuevas al archivo\""
   ]
  },
  {
   "cell_type": "markdown",
   "metadata": {},
   "source": [
    "## Creación de ramas\n",
    "Las ramas se utilizan cuando se quieren llevar cambios aislados unos de otros, en el desarrollo de software es común separar el desarrollo de distintas funcionalidades en distintas ramas y luego integrar las que formaran parte de una versión estable. Para crear una rama se utiliza el siguiente comando:"
   ]
  },
  {
   "cell_type": "code",
   "execution_count": 18,
   "metadata": {},
   "outputs": [],
   "source": [
    "!git branch rama1"
   ]
  },
  {
   "cell_type": "markdown",
   "metadata": {},
   "source": [
    "## Visualización de ramas\n",
    "Para visualizar las ramas existentes se utiliza el siguiente comando:"
   ]
  },
  {
   "cell_type": "code",
   "execution_count": 19,
   "metadata": {},
   "outputs": [
    {
     "name": "stdout",
     "output_type": "stream",
     "text": [
      "* master\n",
      "  rama1\n"
     ]
    }
   ],
   "source": [
    "!git branch"
   ]
  },
  {
   "cell_type": "markdown",
   "metadata": {},
   "source": [
    "## Cambio de rama\n",
    "Para realizar el cambio entre una rama y otra se utiliza el siguiente comando:"
   ]
  },
  {
   "cell_type": "code",
   "execution_count": 40,
   "metadata": {},
   "outputs": [
    {
     "name": "stdout",
     "output_type": "stream",
     "text": [
      "archivo.txt: needs merge\n"
     ]
    },
    {
     "name": "stderr",
     "output_type": "stream",
     "text": [
      "error: you need to resolve your current index first\n"
     ]
    },
    {
     "name": "stdout",
     "output_type": "stream",
     "text": [
      "* master\n",
      "  rama1\n"
     ]
    }
   ],
   "source": [
    "!git checkout rama1\n",
    "!git branch"
   ]
  },
  {
   "cell_type": "markdown",
   "metadata": {},
   "source": [
    "## Unión de ramas\n",
    "Para unir dos ramas se utiliza el comando **merge**. Primero se agregará un par de lineas al archivo de texto (archivo.txt) y posteriormente se confirmaran los cambios en la rama actual para proceder por ultimo con el cambio de rama a la **master** y la unión de esta con la **rama1**:"
   ]
  },
  {
   "cell_type": "code",
   "execution_count": 41,
   "metadata": {},
   "outputs": [
    {
     "name": "stdout",
     "output_type": "stream",
     "text": [
      "diff --cc archivo.txt\n",
      "index 8fec5f6,59f54e1..0000000\n",
      "--- a/archivo.txt\n",
      "+++ b/archivo.txt\n",
      "@@@ -1,3 -1,1 +1,5 @@@\n",
      " -Este es el archivo final\n",
      " +Este es \n",
      " +un archivo\n",
      "- de texto\n",
      "++de texto\n",
      "++utilizado\n",
      "++para pruebas\n",
      "[master 34e6f8a] Confirmando cambios en la rama1\n"
     ]
    },
    {
     "name": "stderr",
     "output_type": "stream",
     "text": [
      "Already on 'master'\n"
     ]
    },
    {
     "name": "stdout",
     "output_type": "stream",
     "text": [
      "Already up to date.\n",
      "*   commit 34e6f8aa6ff72327673fe35b9a30d9ad152d1854 (HEAD -> master)\n",
      "|\\  Merge: 0279bc8 c730ec0\n",
      "| | Author: Otto OrtÃ­z <otto.ortiz@galileo.edu>\n",
      "| | Date:   Thu Feb 20 18:30:23 2020 -0600\n",
      "| | \n",
      "| |     Confirmando cambios en la rama1\n",
      "| | \n",
      "| * commit c730ec0d2cfb442f98aa25a3548294053145f3e6 (rama1)\n",
      "| | Author: Otto OrtÃ­z <otto.ortiz@galileo.edu>\n",
      "| | Date:   Thu Feb 20 18:26:06 2020 -0600\n",
      "| | \n",
      "| |     Confirmando cambios en la rama1\n",
      "| | \n",
      "* | commit 0279bc8b40a17f33c50a39f9efe12b60fb9e7f92\n",
      "|/  Author: Otto OrtÃ­z <otto.ortiz@galileo.edu>\n",
      "|   Date:   Thu Feb 20 18:20:37 2020 -0600\n",
      "|   \n",
      "|       Se agregan las lineas nuevas al archivo\n",
      "| \n",
      "* commit 3e6386e5dfbf2fe876b23bf3f8a77e9f35491a4b\n",
      "  Author: Otto OrtÃ­z <otto.ortiz@galileo.edu>\n",
      "  Date:   Thu Feb 20 17:53:38 2020 -0600\n",
      "  \n",
      "      Agregando archivo.txt\n"
     ]
    }
   ],
   "source": [
    "!git diff archivo.txt\n",
    "!git add archivo.txt\n",
    "!git commit -m \"Confirmando cambios en la rama1\"\n",
    "!git checkout master\n",
    "!git merge rama1\n",
    "!git log --all --graph --decorate"
   ]
  },
  {
   "cell_type": "code",
   "execution_count": null,
   "metadata": {},
   "outputs": [],
   "source": []
  }
 ],
 "metadata": {
  "kernelspec": {
   "display_name": "Python 3",
   "language": "python",
   "name": "python3"
  },
  "language_info": {
   "codemirror_mode": {
    "name": "ipython",
    "version": 3
   },
   "file_extension": ".py",
   "mimetype": "text/x-python",
   "name": "python",
   "nbconvert_exporter": "python",
   "pygments_lexer": "ipython3",
   "version": "3.8.1"
  }
 },
 "nbformat": 4,
 "nbformat_minor": 4
}

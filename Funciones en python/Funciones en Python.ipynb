{
 "cells": [
  {
   "cell_type": "markdown",
   "metadata": {},
   "source": [
    "# Tarea\n",
    "\n",
    "**Funciones**: \n",
    "Tambien llamadas sub-rutinas, procedimientos o metodos en otros lenguajes, esta tarea consiste en investigar:\n",
    "* funciones en Python \n",
    "* parametros posisionales \n",
    "* parametros nombrados \n",
    "* retorno de multiples valores\n",
    "* funciones como objetos y como parametros de otras funciones\n",
    "* funciones anonimas o lambda"
   ]
  },
  {
   "cell_type": "markdown",
   "metadata": {},
   "source": [
    "## Funciones en python\n",
    "Una función es un conjunto de instrucciones agrupadas en un bloque de código que permite:\n",
    "\n",
    "* Reutilización de código\n",
    "* Mejorar la legibilidad del código\n",
    "* Facilidad de uso\n",
    "* Modularización del código\n",
    "\n",
    "Las funciones deben tener un nombre asociado, pueden recibir cero o más argumentos como entrada, está conformada por una secuencia de instrucciones y devuelve un valor o realiza una tarea específica.\n",
    "\n"
   ]
  },
  {
   "cell_type": "code",
   "execution_count": null,
   "metadata": {},
   "outputs": [],
   "source": [
    "#Ejemplo de una función\n",
    "def saludar(nombre):\n",
    "    \"\"\"Esta función retorna un saludo junto con el nombre recibido\"\"\"\n",
    "    return (\"Hola cómo estas \" + nombre)"
   ]
  },
  {
   "cell_type": "markdown",
   "metadata": {},
   "source": [
    "#### Explicación de la función anterior\n",
    "* def: Palabra reservada que permite definir una función\n",
    "* saludar: es el nombre de la función.\n",
    "* nombre: es la lista de parámetros que puede recibir una función (En este caso solo hay uno)\n",
    "* \"\"\"texto\"\"\", es un string usado para documentar la función. Se puede visualizar llamando a la función: help(saludar)\n",
    "* return, es la sentencia que permite devolver un resultado luego de ejecutar código Python."
   ]
  },
  {
   "cell_type": "code",
   "execution_count": null,
   "metadata": {},
   "outputs": [],
   "source": [
    "#Para llamar una función se utiliza su nombre\n",
    "saludar(\"Otto\")"
   ]
  },
  {
   "cell_type": "code",
   "execution_count": null,
   "metadata": {},
   "outputs": [],
   "source": [
    "#Para obtener ayuda de una función se utiliza la función help\n",
    "help(saludar)"
   ]
  },
  {
   "cell_type": "markdown",
   "metadata": {},
   "source": [
    "## Parámetros posicionales\n",
    "\n",
    "La lista de los parámetros que se envía a una función deben ir en el orden en que fueron definidos, si son enviados en un orden distinto la ejecución del programa puede dar un error o simplemente ejecutarse de una manera erronea, por ejemplo:"
   ]
  },
  {
   "cell_type": "code",
   "execution_count": null,
   "metadata": {},
   "outputs": [],
   "source": [
    "def describir_nombre_apellido(nombre,apellido):\n",
    "    return (\"Tu nombres es \" +  nombre + \" y tu apellido es: \" + apellido)"
   ]
  },
  {
   "cell_type": "code",
   "execution_count": null,
   "metadata": {},
   "outputs": [],
   "source": [
    "#parámetros en orden correcto\n",
    "describir_nombre_apellido(\"Otto\",\"Ortiz\")\n"
   ]
  },
  {
   "cell_type": "code",
   "execution_count": null,
   "metadata": {},
   "outputs": [],
   "source": [
    "#parámetros en orden incorrecto\n",
    "describir_nombre_apellido(\"Ortiz\",\"Otto\")"
   ]
  },
  {
   "cell_type": "markdown",
   "metadata": {},
   "source": [
    "## Parámetros nombrados\n",
    "Es posible enviar los parámetros a una función en un orden distinto al que fueron definidos, para esto es necesario agregar e nombre del parámetro y su valor al momento de llamar a una función, por ejemplo:"
   ]
  },
  {
   "cell_type": "code",
   "execution_count": null,
   "metadata": {},
   "outputs": [],
   "source": [
    "#parámetros en orden correcto y nombrados\n",
    "describir_nombre_apellido(nombre=\"Otto\",apellido=\"Ortiz\")"
   ]
  },
  {
   "cell_type": "code",
   "execution_count": null,
   "metadata": {},
   "outputs": [],
   "source": [
    "#parámetros nombrados en orden distinto al que fueron definidos\n",
    "describir_nombre_apellido(apellido=\"Ortiz\",nombre=\"Otto\")"
   ]
  },
  {
   "cell_type": "markdown",
   "metadata": {},
   "source": [
    "## Retorno de múltiples valores\n",
    "Python a diferencia de otros lenguajes permite que una función pueda devolver múltiples parámetros, para esto se pueden separar los valores a retornar con una coma y la función devolverá una tupla, por ejemplo:"
   ]
  },
  {
   "cell_type": "code",
   "execution_count": null,
   "metadata": {},
   "outputs": [],
   "source": [
    "def devolver_doble_y_triple(numero):\n",
    "    return numero*2,numero*3"
   ]
  },
  {
   "cell_type": "code",
   "execution_count": null,
   "metadata": {},
   "outputs": [],
   "source": [
    "devolver_doble_y_triple(2)"
   ]
  },
  {
   "cell_type": "markdown",
   "metadata": {},
   "source": [
    "## Funciones como objeto y como parámetros de otras funciones\n",
    "Python permite recibir dentro de una funcion un parámetro que a su vez es una función, por ejemplo:"
   ]
  },
  {
   "cell_type": "code",
   "execution_count": null,
   "metadata": {},
   "outputs": [],
   "source": [
    "def operar_funcion(funcion, parametro):\n",
    "    return funcion(parametro)"
   ]
  },
  {
   "cell_type": "code",
   "execution_count": null,
   "metadata": {},
   "outputs": [],
   "source": [
    "operar_funcion(saludar,\"Otto\")"
   ]
  },
  {
   "cell_type": "code",
   "execution_count": null,
   "metadata": {},
   "outputs": [],
   "source": [
    "operar_funcion(devolver_doble_y_triple,2)"
   ]
  },
  {
   "cell_type": "markdown",
   "metadata": {},
   "source": [
    "## Funciones anónimas o lambda\n",
    "\n",
    "Pyton permite definir funciones sin utilizar la sintáxis vista previamente con la palabra reservada **def.** Estas funciones son llamadas anónimas y se utiliza la palabra reservada **lambda**  para definirlas.\n",
    "\n",
    "* Este tipo de funciones se pueden recibir múltiple parámetros\n",
    "* Dentro del código de la función se pueden tener múltiples expresiones\n",
    "* Dentro del código de la función no se pueden tener otro tipo de sentencias (únicamente expresiones)\n"
   ]
  },
  {
   "cell_type": "code",
   "execution_count": null,
   "metadata": {},
   "outputs": [],
   "source": [
    "suma = lambda num1,num2 : num1+num2"
   ]
  },
  {
   "cell_type": "code",
   "execution_count": null,
   "metadata": {},
   "outputs": [],
   "source": [
    "suma(2,3)"
   ]
  }
 ],
 "metadata": {
  "kernelspec": {
   "display_name": "Python 3",
   "language": "python",
   "name": "python3"
  },
  "language_info": {
   "codemirror_mode": {
    "name": "ipython",
    "version": 3
   },
   "file_extension": ".py",
   "mimetype": "text/x-python",
   "name": "python",
   "nbconvert_exporter": "python",
   "pygments_lexer": "ipython3",
   "version": "3.7.4"
  }
 },
 "nbformat": 4,
 "nbformat_minor": 2
}

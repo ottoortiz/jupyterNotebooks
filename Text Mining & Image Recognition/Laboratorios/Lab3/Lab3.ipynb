{
 "cells": [
  {
   "cell_type": "markdown",
   "metadata": {},
   "source": [
    "# Problema 1\n",
    "Utilice expresiones regulares para validar las siguintes situaciones:"
   ]
  },
  {
   "cell_type": "markdown",
   "metadata": {},
   "source": [
    "#### 1.1 \n",
    "Implemente una regex para validar un correo electrónico en general, a continuación se muestran algunos ejemplos.\n",
    "* Guate.360-porelmundo@miguate.com \n",
    "* Miercoles3@hotmail.com \n",
    "* Progra3.galileo@galileo.edu"
   ]
  },
  {
   "cell_type": "code",
   "execution_count": 9,
   "metadata": {},
   "outputs": [
    {
     "name": "stdout",
     "output_type": "stream",
     "text": [
      "Guate.360-porelmundo@miguate.com es un correo válido.\n",
      "Miercoles3@hotmail.com es un correo válido.\n",
      "Progra3.galileo@galileo.edu es un correo válido.\n"
     ]
    }
   ],
   "source": [
    "import re\n",
    "from datetime import datetime\n",
    "\n",
    "# Expresión regular\n",
    "email_regex = r'^[a-zA-Z0-9._%+-]+@[a-zA-Z0-9.-]+\\.[a-zA-Z]{2,}$'\n",
    "\n",
    "# Ejemplos\n",
    "emails = [\n",
    "    \"Guate.360-porelmundo@miguate.com\",\n",
    "    \"Miercoles3@hotmail.com\",\n",
    "    \"Progra3.galileo@galileo.edu\"\n",
    "]\n",
    "\n",
    "# Validación\n",
    "for email in emails:\n",
    "    if re.match(email_regex, email):\n",
    "        print(f\"{email} es un correo válido.\")\n",
    "    else:\n",
    "        print(f\"{email} no es un correo válido.\")"
   ]
  },
  {
   "cell_type": "markdown",
   "metadata": {},
   "source": [
    "#### 1.2\n",
    "Implemente una regex para validar la dirección url de una página web con los tipos de domino (.com, .org, .edu). Note que la url incluye el protocolo (http o https) y los símbolos (//www.), a continuación se muestran algunos ejemplos:\n",
    "* https://www.guate360-porelmundo.com \n",
    "* http://www.a2.net \n",
    "* https://www.galileo.edu \n",
    "* http://www.8.org (No valida)"
   ]
  },
  {
   "cell_type": "code",
   "execution_count": 10,
   "metadata": {},
   "outputs": [
    {
     "name": "stdout",
     "output_type": "stream",
     "text": [
      "https://www.guate360-porelmundo.com es una URL válida.\n",
      "http://www.a2.net no es una URL válida.\n",
      "https://www.galileo.edu es una URL válida.\n",
      "http://www.8.org no es una URL válida.\n"
     ]
    }
   ],
   "source": [
    "# Expresión regular\n",
    "url_regex = r\"^(https?://)(www\\.)[a-zA-Z]+[a-zA-Z0-9\\.\\_\\-]*\\.(com|org|edu)$\"\n",
    "\n",
    "\n",
    "# Ejemplos\n",
    "urls = [\n",
    "    \"https://www.guate360-porelmundo.com\",\n",
    "    \"http://www.a2.net\",\n",
    "    \"https://www.galileo.edu\",\n",
    "    \"http://www.8.org\"\n",
    "]\n",
    "\n",
    "# Validación\n",
    "for url in urls:\n",
    "    if re.match(url_regex, url):\n",
    "        print(f\"{url} es una URL válida.\")\n",
    "    else:\n",
    "        print(f\"{url} no es una URL válida.\")"
   ]
  },
  {
   "cell_type": "markdown",
   "metadata": {},
   "source": [
    "#### 1.3\n",
    "Implemente una regex para validar una MAC Address, notar que las mac addres están divididas en 6 bloques de caracteres hexadecimales, es decir que los símbolos solo pueden variar del 0 al 9 y las letras de la A a la F. a continuación se muestran algunos ejemplos:\n",
    "* 5A 6F AF 8C 9B 1D\n",
    "* 6D 6C 4D 3A EB 3F\n",
    "* 3A 7C FA C8 6D 4J (no valida por que el ultimo bloque contiene una J)"
   ]
  },
  {
   "cell_type": "code",
   "execution_count": 11,
   "metadata": {},
   "outputs": [
    {
     "name": "stdout",
     "output_type": "stream",
     "text": [
      "5A 6F AF 8C 9B 1D es una dirección MAC válida.\n",
      "6D 6C 4D 3A EB 3F es una dirección MAC válida.\n",
      "3A 7C FA C8 6D 4J no es una dirección MAC válida.\n"
     ]
    }
   ],
   "source": [
    "# Expresión regular\n",
    "mac_regex = r'^([0-9A-Fa-f]{2}\\s){5}[0-9A-Fa-f]{2}$'\n",
    "\n",
    "# Ejemplos\n",
    "mac_addresses = [\n",
    "    \"5A 6F AF 8C 9B 1D\",  # Válida\n",
    "    \"6D 6C 4D 3A EB 3F\",  # Válida\n",
    "    \"3A 7C FA C8 6D 4J\"   # No válida\n",
    "]\n",
    "\n",
    "# Validación\n",
    "for mac in mac_addresses:\n",
    "    if re.match(mac_regex, mac):\n",
    "        print(f\"{mac} es una dirección MAC válida.\")\n",
    "    else:\n",
    "        print(f\"{mac} no es una dirección MAC válida.\")"
   ]
  },
  {
   "cell_type": "markdown",
   "metadata": {},
   "source": [
    "#### 1.4\n",
    "Implemente una regex para validar una dirección IPv4, notar que las direcciones IPv4 están divididas en 4 bloques de valores los cuales solo pueden ir desde 0 hasta 255, una ip donde algunos de sus bloques sea mayor a 255 no es valida, además tome en cuenta que cada bloque está separada por un punto. A continuación se muestran algunos ejemplos:\n",
    "* 192.16.8.1\n",
    "* 234.56.78.90\n",
    "* 1.2.3.4\n",
    "* 192.168.45.345 (no valida por que el ultimo bloque es mayor a 255)"
   ]
  },
  {
   "cell_type": "code",
   "execution_count": 12,
   "metadata": {},
   "outputs": [
    {
     "name": "stdout",
     "output_type": "stream",
     "text": [
      "192.16.8.1 es una dirección IP válida.\n",
      "234.56.78.90 es una dirección IP válida.\n",
      "1.2.3.4 es una dirección IP válida.\n",
      "192.168.45.345 no es una dirección IP válida.\n"
     ]
    }
   ],
   "source": [
    "# Expresión regular\n",
    "ip_regex = r'^((25[0-5]|2[0-4][0-9]|[01]?[0-9][0-9]?)\\.){3}(25[0-5]|2[0-4][0-9]|[01]?[0-9][0-9]?)$'\n",
    "\n",
    "# Ejemplos\n",
    "ip_addresses = [\n",
    "    \"192.16.8.1\",        # Válida\n",
    "    \"234.56.78.90\",      # Válida\n",
    "    \"1.2.3.4\",           # Válida\n",
    "    \"192.168.45.345\"     # No válida\n",
    "]\n",
    "\n",
    "# Validación\n",
    "for ip in ip_addresses:\n",
    "    if re.match(ip_regex, ip):\n",
    "        print(f\"{ip} es una dirección IP válida.\")\n",
    "    else:\n",
    "        print(f\"{ip} no es una dirección IP válida.\")"
   ]
  },
  {
   "cell_type": "markdown",
   "metadata": {},
   "source": [
    "#### 1.5\n",
    "Implemente una regex para validar una fecha con la secuencia día-mes-año donde el día, mes y año puedan estar separados ya sea por el caracter / o el caracter - o el caracter ., notar que las fechas son validas si los días están definidos desde el 1 al 31, el mes del 1 al 12 y el año de 2000 al 2019. También debe tomar en cuenta que los días y meses pueden estar escritos ya sea con uno o dos caracteres por ejemplo: Enero puede escribirse como 1 o como 01. Los años también pueden expresarse ya sea con dos o con cuatro caracteres por ejemplo: 19 o 2019 son validos. A continuación se muestran algunos ejemplos:\n",
    "\n",
    "* 20/1/2019\n",
    "* 12.03.2005\n",
    "* 31-11-08\n",
    "* 1-1-2012\n",
    "* 12-12-22 (no valida, por que el año supera al 2019)."
   ]
  },
  {
   "cell_type": "code",
   "execution_count": 13,
   "metadata": {},
   "outputs": [
    {
     "name": "stdout",
     "output_type": "stream",
     "text": [
      "20/1/2019 es una fecha válida.\n",
      "12.03.2005 es una fecha válida.\n",
      "31-11-08 es una fecha válida.\n",
      "1-1-2012 es una fecha válida.\n",
      "12-12-22 no es una fecha válida.\n"
     ]
    }
   ],
   "source": [
    "# Expresión regular para validar fechas\n",
    "\n",
    "date_regex = r'^(0?[1-9]|[1|2][0-9]|3[01])[\\/\\-\\.](0?[1-9]|1[0-2])[\\/\\-\\.](20)?(0[0-9]|1[0-9])$'\n",
    "# Lista de fechas para probar\n",
    "dates = [\n",
    "    \"20/1/2019\",        # Válida\n",
    "    \"12.03.2005\",      # Válida\n",
    "    \"31-11-08\",        # Válida (en formato de dos dígitos)\n",
    "    \"1-1-2012\",        # Válida\n",
    "    \"12-12-22\",        # No válida (año supera 2019)\n",
    "]\n",
    "\n",
    "# Validar fechas\n",
    "for date in dates:\n",
    "    if re.match(date_regex, date):\n",
    "        print(f\"{date} es una fecha válida.\")\n",
    "    else:\n",
    "        print(f\"{date} no es una fecha válida.\")"
   ]
  },
  {
   "cell_type": "markdown",
   "metadata": {},
   "source": [
    "# Problema 2\n",
    "En la carpeta encontrará adjuntos 21 documentos que tiene 100 fechas en la secuencia días-mes-año pero con distinto separador y distinto formato de mes, en algunos casos aparece un numero y en otros el nombre del mes en ingles, por ejemplo: Enero pueder aparecer como 1 o como Jan.\n",
    "Utilice Python y expresiones regulares para encontrar el día, mes y año promedio total del los 21 archivos, los resultados deben ser un double.\n"
   ]
  },
  {
   "cell_type": "code",
   "execution_count": 14,
   "metadata": {},
   "outputs": [],
   "source": [
    "def convertir_fecha(fecha):\n",
    "    # Patrones para diferentes formatos\n",
    "    patrones = [\n",
    "        (r'^(0?[1-9]|[1|2][0-9]|3[01])[\\/](0?[1-9]|1[0-2])[\\/](20(0[0-9]|1[0-9]))$', '%d/%m/%Y'),  # dd/mm/yyyy\n",
    "        (r'^(0?[1-9]|[1|2][0-9]|3[01])[\\.](0?[1-9]|1[0-2])[\\.](20(0[0-9]|1[0-9]))$', '%d.%m.%Y'),  # dd.mm.yyyy\n",
    "        (r'^(0?[1-9]|[1|2][0-9]|3[01])[\\-](0?[1-9]|1[0-2])[\\-](20(0[0-9]|1[0-9]))$', '%d-%m-%Y'),  # dd-mm-yyyy\n",
    "        (r'^(0?[1-9]|[1|2][0-9]|3[01])[\\/](Jan|Feb|Mar|Apr|May|Jun|Jul|Aug|Sep|Oct|Nov|Dec)[\\/](20(0[0-9]|1[0-9]))$', '%d/%b/%Y'),  # dd/mm/yyyy\n",
    "        (r'^(0?[1-9]|[1|2][0-9]|3[01])[\\.](Jan|Feb|Mar|Apr|May|Jun|Jul|Aug|Sep|Oct|Nov|Dec)[\\.](20(0[0-9]|1[0-9]))$', '%d.%b.%Y'),  # dd.mm.yyyy\n",
    "        (r'^(0?[1-9]|[1|2][0-9]|3[01])[\\-](Jan|Feb|Mar|Apr|May|Jun|Jul|Aug|Sep|Oct|Nov|Dec)[\\-](20(0[0-9]|1[0-9]))$', '%d-%b-%Y'),  # dd-mm-yyyy\n",
    "    ]\n",
    "\n",
    "    # Intentar cada patrón\n",
    "    for patron, formato in patrones:\n",
    "        if re.match(patron, fecha):\n",
    "            # Convertir la fecha a un formato unificado\n",
    "            fecha_unificada = datetime.strptime(fecha, formato).strftime('%d/%m/%Y')\n",
    "            return fecha_unificada\n",
    "\n",
    "    # Si no coincide con ningún patrón\n",
    "    return None"
   ]
  },
  {
   "cell_type": "code",
   "execution_count": 15,
   "metadata": {},
   "outputs": [],
   "source": [
    "#Remover BOM del inicio de cada archivo\n",
    "for i in range (1,22):\n",
    "    nombre_archivo = 'Datos/D' + str(i) + '.txt'\n",
    "    try:\n",
    "        s = open(nombre_archivo, mode='r', encoding='utf-8-sig').read()\n",
    "        open(nombre_archivo, mode='w', encoding='utf-8').write(s)\n",
    "    except FileNotFoundError:\n",
    "        print(f\"El archivo {nombre_archivo} no se encontró.\")\n",
    "    except IOError:\n",
    "        print(f\"Error al leer el archivo {nombre_archivo}.\")"
   ]
  },
  {
   "cell_type": "code",
   "execution_count": 16,
   "metadata": {},
   "outputs": [
    {
     "name": "stdout",
     "output_type": "stream",
     "text": [
      "Se leyeron 21000 lineas, y se encontraron 1773 fechas distintas\n"
     ]
    },
    {
     "data": {
      "text/html": [
       "<div>\n",
       "<style scoped>\n",
       "    .dataframe tbody tr th:only-of-type {\n",
       "        vertical-align: middle;\n",
       "    }\n",
       "\n",
       "    .dataframe tbody tr th {\n",
       "        vertical-align: top;\n",
       "    }\n",
       "\n",
       "    .dataframe thead th {\n",
       "        text-align: right;\n",
       "    }\n",
       "</style>\n",
       "<table border=\"1\" class=\"dataframe\">\n",
       "  <thead>\n",
       "    <tr style=\"text-align: right;\">\n",
       "      <th></th>\n",
       "      <th>Fecha</th>\n",
       "      <th>Promedio</th>\n",
       "    </tr>\n",
       "  </thead>\n",
       "  <tbody>\n",
       "    <tr>\n",
       "      <th>0</th>\n",
       "      <td>23/02/2017</td>\n",
       "      <td>0.000429</td>\n",
       "    </tr>\n",
       "    <tr>\n",
       "      <th>1</th>\n",
       "      <td>21/11/2016</td>\n",
       "      <td>0.000524</td>\n",
       "    </tr>\n",
       "    <tr>\n",
       "      <th>2</th>\n",
       "      <td>12/02/2017</td>\n",
       "      <td>0.000714</td>\n",
       "    </tr>\n",
       "    <tr>\n",
       "      <th>3</th>\n",
       "      <td>06/06/2016</td>\n",
       "      <td>0.000286</td>\n",
       "    </tr>\n",
       "    <tr>\n",
       "      <th>4</th>\n",
       "      <td>04/05/2018</td>\n",
       "      <td>0.000667</td>\n",
       "    </tr>\n",
       "    <tr>\n",
       "      <th>...</th>\n",
       "      <td>...</td>\n",
       "      <td>...</td>\n",
       "    </tr>\n",
       "    <tr>\n",
       "      <th>1768</th>\n",
       "      <td>28/06/2018</td>\n",
       "      <td>0.000238</td>\n",
       "    </tr>\n",
       "    <tr>\n",
       "      <th>1769</th>\n",
       "      <td>30/03/2018</td>\n",
       "      <td>0.000381</td>\n",
       "    </tr>\n",
       "    <tr>\n",
       "      <th>1770</th>\n",
       "      <td>27/01/2018</td>\n",
       "      <td>0.000286</td>\n",
       "    </tr>\n",
       "    <tr>\n",
       "      <th>1771</th>\n",
       "      <td>12/12/2015</td>\n",
       "      <td>0.000381</td>\n",
       "    </tr>\n",
       "    <tr>\n",
       "      <th>1772</th>\n",
       "      <td>14/06/2018</td>\n",
       "      <td>0.000190</td>\n",
       "    </tr>\n",
       "  </tbody>\n",
       "</table>\n",
       "<p>1773 rows × 2 columns</p>\n",
       "</div>"
      ],
      "text/plain": [
       "           Fecha  Promedio\n",
       "0     23/02/2017  0.000429\n",
       "1     21/11/2016  0.000524\n",
       "2     12/02/2017  0.000714\n",
       "3     06/06/2016  0.000286\n",
       "4     04/05/2018  0.000667\n",
       "...          ...       ...\n",
       "1768  28/06/2018  0.000238\n",
       "1769  30/03/2018  0.000381\n",
       "1770  27/01/2018  0.000286\n",
       "1771  12/12/2015  0.000381\n",
       "1772  14/06/2018  0.000190\n",
       "\n",
       "[1773 rows x 2 columns]"
      ]
     },
     "execution_count": 16,
     "metadata": {},
     "output_type": "execute_result"
    }
   ],
   "source": [
    "# Abrir el archivo y leer línea por línea\n",
    "from collections import Counter\n",
    "import pandas as pd\n",
    "contTotal=0\n",
    "listaFechas = []\n",
    "for i in range (1,22):\n",
    "    nombre_archivo = 'Datos/D' + str(i) + '.txt'\n",
    "    try:\n",
    "        with open(nombre_archivo, 'r' ,encoding='utf-8') as archivo:\n",
    "            contLinea=0\n",
    "            for linea in archivo:\n",
    "                contLinea=contLinea+1\n",
    "                contTotal=contTotal+1\n",
    "                # Eliminar el salto de línea al final de cada línea\n",
    "                linea = linea.strip()\n",
    "                fecha_convertida = convertir_fecha(linea)\n",
    "                if fecha_convertida:\n",
    "                    #print(nombre_archivo + ': ' + str(contLinea) + ' fecha original: ' + linea + ' fecha convertida: ' + fecha_convertida) \n",
    "                    listaFechas.append(fecha_convertida)                   \n",
    "                else:\n",
    "                    print(nombre_archivo + ': ' + str(contLinea) + ' fecha original: ' + linea + ' formato no reconocido: ')                \n",
    "                \n",
    "    except FileNotFoundError:\n",
    "        print(f\"El archivo {nombre_archivo} no se encontró.\")\n",
    "    except IOError:\n",
    "        print(f\"Error al leer el archivo {nombre_archivo}.\")\n",
    "conteo=Counter(listaFechas)\n",
    "resultado={}\n",
    "for clave in conteo:  \n",
    "    valor=conteo[clave]\n",
    "    resultado[clave] = valor/contTotal\n",
    "print('Se leyeron ' +  str(contTotal) + ' lineas, y se encontraron ' + str(len(resultado)) + ' fechas distintas')\n",
    "df = pd.DataFrame([[key, resultado[key]] for key in resultado.keys()], columns=['Fecha', 'Promedio'])\n",
    "df"
   ]
  },
  {
   "cell_type": "markdown",
   "metadata": {},
   "source": [
    "# Problema 3\n",
    "Descargue el Dataset el cual contiene aproximadamente 800,000 tweets de diversos temas.\n",
    "Usando CoLab y expresiones regulares. Determine los 3 usuarios más populares dentro del dataset. Luego arme un corpus el cual contenga los siguientes elementos por cada usuario seleccionado:\n",
    "\n",
    "* Content: Tweet.\n",
    "\n",
    "* Metadata: ID, Timestamp, Length (este valor hay que calcularlo).\n",
    "\n",
    "Posterior a tener sus 3 corpus creados, responda: ¿Razón por la que citan a ese usuario? para esto es necesario que extraiga el contexto de cada tweet y verifique cuales son las palabras que más rodean al nombre de usuario. Para extraer un contexto valido y debido a la naturaleza del tipo de datos que están disponibles en nuestro dataset le recomendamos seguir los siguientes pasos:\n",
    "\n",
    "1. Remover stopwords.\n",
    "2. Realizar stemming y lemmatización.\n",
    "3. Mostrar un wordcloud con el top 10 para cada usuario."
   ]
  },
  {
   "cell_type": "code",
   "execution_count": null,
   "metadata": {},
   "outputs": [],
   "source": [
    "pip install -U pip setuptools wheel\n",
    "pip install -U spacy"
   ]
  },
  {
   "cell_type": "code",
   "execution_count": null,
   "metadata": {},
   "outputs": [],
   "source": [
    " pip install wordcloud"
   ]
  },
  {
   "cell_type": "code",
   "execution_count": null,
   "metadata": {},
   "outputs": [],
   "source": [
    "import spacy\n",
    "spacy.cli.download(\"en_core_web_sm\")"
   ]
  },
  {
   "cell_type": "code",
   "execution_count": 17,
   "metadata": {},
   "outputs": [],
   "source": [
    "nlp = spacy.load(\"en_core_web_sm\")"
   ]
  },
  {
   "cell_type": "code",
   "execution_count": 18,
   "metadata": {},
   "outputs": [
    {
     "data": {
      "text/html": [
       "<div>\n",
       "<style scoped>\n",
       "    .dataframe tbody tr th:only-of-type {\n",
       "        vertical-align: middle;\n",
       "    }\n",
       "\n",
       "    .dataframe tbody tr th {\n",
       "        vertical-align: top;\n",
       "    }\n",
       "\n",
       "    .dataframe thead th {\n",
       "        text-align: right;\n",
       "    }\n",
       "</style>\n",
       "<table border=\"1\" class=\"dataframe\">\n",
       "  <thead>\n",
       "    <tr style=\"text-align: right;\">\n",
       "      <th></th>\n",
       "      <th>no</th>\n",
       "      <th>id</th>\n",
       "      <th>timestamp</th>\n",
       "      <th>type</th>\n",
       "      <th>user</th>\n",
       "      <th>content</th>\n",
       "    </tr>\n",
       "  </thead>\n",
       "  <tbody>\n",
       "    <tr>\n",
       "      <th>0</th>\n",
       "      <td>0</td>\n",
       "      <td>1467810369</td>\n",
       "      <td>Mon Apr 06 22:19:45 PDT 2009</td>\n",
       "      <td>NO_QUERY</td>\n",
       "      <td>_TheSpecialOne_</td>\n",
       "      <td>@switchfoot http://twitpic.com/2y1zl - Awww, t...</td>\n",
       "    </tr>\n",
       "    <tr>\n",
       "      <th>1</th>\n",
       "      <td>0</td>\n",
       "      <td>1467810672</td>\n",
       "      <td>Mon Apr 06 22:19:49 PDT 2009</td>\n",
       "      <td>NO_QUERY</td>\n",
       "      <td>scotthamilton</td>\n",
       "      <td>is upset that he can't update his Facebook by ...</td>\n",
       "    </tr>\n",
       "    <tr>\n",
       "      <th>2</th>\n",
       "      <td>0</td>\n",
       "      <td>1467810917</td>\n",
       "      <td>Mon Apr 06 22:19:53 PDT 2009</td>\n",
       "      <td>NO_QUERY</td>\n",
       "      <td>mattycus</td>\n",
       "      <td>@Kenichan I dived many times for the ball. Man...</td>\n",
       "    </tr>\n",
       "    <tr>\n",
       "      <th>3</th>\n",
       "      <td>0</td>\n",
       "      <td>1467811184</td>\n",
       "      <td>Mon Apr 06 22:19:57 PDT 2009</td>\n",
       "      <td>NO_QUERY</td>\n",
       "      <td>ElleCTF</td>\n",
       "      <td>my whole body feels itchy and like its on fire</td>\n",
       "    </tr>\n",
       "    <tr>\n",
       "      <th>4</th>\n",
       "      <td>0</td>\n",
       "      <td>1467811193</td>\n",
       "      <td>Mon Apr 06 22:19:57 PDT 2009</td>\n",
       "      <td>NO_QUERY</td>\n",
       "      <td>Karoli</td>\n",
       "      <td>@nationwideclass no, it's not behaving at all....</td>\n",
       "    </tr>\n",
       "  </tbody>\n",
       "</table>\n",
       "</div>"
      ],
      "text/plain": [
       "   no          id                     timestamp      type             user  \\\n",
       "0   0  1467810369  Mon Apr 06 22:19:45 PDT 2009  NO_QUERY  _TheSpecialOne_   \n",
       "1   0  1467810672  Mon Apr 06 22:19:49 PDT 2009  NO_QUERY    scotthamilton   \n",
       "2   0  1467810917  Mon Apr 06 22:19:53 PDT 2009  NO_QUERY         mattycus   \n",
       "3   0  1467811184  Mon Apr 06 22:19:57 PDT 2009  NO_QUERY          ElleCTF   \n",
       "4   0  1467811193  Mon Apr 06 22:19:57 PDT 2009  NO_QUERY           Karoli   \n",
       "\n",
       "                                             content  \n",
       "0  @switchfoot http://twitpic.com/2y1zl - Awww, t...  \n",
       "1  is upset that he can't update his Facebook by ...  \n",
       "2  @Kenichan I dived many times for the ball. Man...  \n",
       "3    my whole body feels itchy and like its on fire   \n",
       "4  @nationwideclass no, it's not behaving at all....  "
      ]
     },
     "execution_count": 18,
     "metadata": {},
     "output_type": "execute_result"
    }
   ],
   "source": [
    "colnames=['no', 'id', 'timestamp', 'type', 'user','content'] \n",
    "dataset = pd.read_csv('tw_source.csv', encoding='ISO-8859-1',names=colnames, header=None)\n",
    "dataset.head()"
   ]
  },
  {
   "cell_type": "code",
   "execution_count": 19,
   "metadata": {},
   "outputs": [
    {
     "data": {
      "text/plain": [
       "(1600000, 6)"
      ]
     },
     "execution_count": 19,
     "metadata": {},
     "output_type": "execute_result"
    }
   ],
   "source": [
    "dataset.shape"
   ]
  },
  {
   "cell_type": "markdown",
   "metadata": {},
   "source": [
    "## Buscando los 3 usuarios mas populares"
   ]
  },
  {
   "cell_type": "code",
   "execution_count": 20,
   "metadata": {},
   "outputs": [],
   "source": [
    "pattern = re.compile(r'@[\\w_]+')\n",
    "def extrarMenciones(documentos):\n",
    "  menciones = []\n",
    "  for doc in documentos:\n",
    "    try:\n",
    "      usuario = pattern.search(doc).group(0)\n",
    "      menciones.append(usuario)\n",
    "    except AttributeError:\n",
    "      pass  \n",
    "  return menciones"
   ]
  },
  {
   "cell_type": "code",
   "execution_count": 21,
   "metadata": {},
   "outputs": [
    {
     "data": {
      "text/html": [
       "<div>\n",
       "<style scoped>\n",
       "    .dataframe tbody tr th:only-of-type {\n",
       "        vertical-align: middle;\n",
       "    }\n",
       "\n",
       "    .dataframe tbody tr th {\n",
       "        vertical-align: top;\n",
       "    }\n",
       "\n",
       "    .dataframe thead th {\n",
       "        text-align: right;\n",
       "    }\n",
       "</style>\n",
       "<table border=\"1\" class=\"dataframe\">\n",
       "  <thead>\n",
       "    <tr style=\"text-align: right;\">\n",
       "      <th></th>\n",
       "      <th>Usuario</th>\n",
       "      <th>Menciones</th>\n",
       "    </tr>\n",
       "  </thead>\n",
       "  <tbody>\n",
       "    <tr>\n",
       "      <th>0</th>\n",
       "      <td>@mileycyrus</td>\n",
       "      <td>4310</td>\n",
       "    </tr>\n",
       "    <tr>\n",
       "      <th>1</th>\n",
       "      <td>@tommcfly</td>\n",
       "      <td>3767</td>\n",
       "    </tr>\n",
       "    <tr>\n",
       "      <th>2</th>\n",
       "      <td>@ddlovato</td>\n",
       "      <td>3259</td>\n",
       "    </tr>\n",
       "  </tbody>\n",
       "</table>\n",
       "</div>"
      ],
      "text/plain": [
       "       Usuario  Menciones\n",
       "0  @mileycyrus       4310\n",
       "1    @tommcfly       3767\n",
       "2    @ddlovato       3259"
      ]
     },
     "execution_count": 21,
     "metadata": {},
     "output_type": "execute_result"
    }
   ],
   "source": [
    "corpus = dataset['content']\n",
    "usuariosMencionados = extrarMenciones(corpus)\n",
    "conteo=Counter(usuariosMencionados)\n",
    "resultado={}\n",
    "for clave in conteo:  \n",
    "    valor=conteo[clave]\n",
    "    resultado[clave] = valor\n",
    "df = pd.DataFrame([[key, resultado[key]] for key in resultado.keys()], columns=['Usuario', 'Menciones'])\n",
    "df = df.sort_values('Menciones',ascending=False)\n",
    "top3Menciones=df.head(3)\n",
    "top3Menciones.reset_index(drop=True,inplace=True)\n",
    "top3Menciones"
   ]
  },
  {
   "cell_type": "markdown",
   "metadata": {},
   "source": [
    "### a. Generando corpus"
   ]
  },
  {
   "cell_type": "code",
   "execution_count": 64,
   "metadata": {},
   "outputs": [],
   "source": [
    "def GenerarCorpusNormalizado(documentos, usuario):\n",
    "  new_corpus = []\n",
    "  for doc in documentos:\n",
    "    if usuario in doc:\n",
    "      new_corpus.append(re.sub(r'[^a-zA-Z0-9\\s{1}\\']', '', doc).lower().strip().rstrip('\\n').rstrip('\\r\\n'))\n",
    "  return new_corpus"
   ]
  },
  {
   "cell_type": "markdown",
   "metadata": {},
   "source": [
    "### b. Tokenizacion"
   ]
  },
  {
   "cell_type": "code",
   "execution_count": 23,
   "metadata": {},
   "outputs": [],
   "source": [
    "def Tokenizacion(documentos):\n",
    "  new_corpus = []\n",
    "  for doc in documentos:\n",
    "    new_corpus.append(nlp(doc))\n",
    "  return new_corpus"
   ]
  },
  {
   "cell_type": "markdown",
   "metadata": {},
   "source": [
    "### c. Remover StopWords"
   ]
  },
  {
   "cell_type": "code",
   "execution_count": 24,
   "metadata": {},
   "outputs": [],
   "source": [
    "def RemoveStopWords(documentos):\n",
    "  new_corpus = []\n",
    "  for doc in documentos:\n",
    "    s=''\n",
    "    for token in doc:\n",
    "      if not token.is_stop:\n",
    "        s+=token.text+' '\n",
    "    new_corpus.append(nlp(s.strip()))\n",
    "  return new_corpus"
   ]
  },
  {
   "cell_type": "markdown",
   "metadata": {},
   "source": [
    "### d. Stemming y Lematización"
   ]
  },
  {
   "cell_type": "code",
   "execution_count": 25,
   "metadata": {},
   "outputs": [],
   "source": [
    "def Stemming_Lemmating(documentos):\n",
    "  new_corpus = []\n",
    "  for doc in documentos:\n",
    "    s=''\n",
    "    for token in doc:\n",
    "        s+=token.lemma_+' '\n",
    "    new_corpus.append(nlp(s.strip()))\n",
    "  return new_corpus"
   ]
  },
  {
   "cell_type": "markdown",
   "metadata": {},
   "source": [
    "### e.Corpus a String"
   ]
  },
  {
   "cell_type": "code",
   "execution_count": 37,
   "metadata": {},
   "outputs": [],
   "source": [
    "def Corpus_to_String(documentos):\n",
    "  str_out = ''\n",
    "  for doc in documentos:\n",
    "    str_out = str_out + doc.text + ' '\n",
    "  return str_out"
   ]
  },
  {
   "cell_type": "markdown",
   "metadata": {},
   "source": [
    "### e. Wordcloud"
   ]
  },
  {
   "cell_type": "code",
   "execution_count": 75,
   "metadata": {},
   "outputs": [],
   "source": [
    "from wordcloud import WordCloud\n",
    "import matplotlib.pyplot as plt\n",
    "def WordToCloud(documentos,usuario):    \n",
    "    wordcloud = WordCloud(background_color='white', colormap = 'binary', max_words=10,\n",
    "     stopwords = [usuario.replace(\"@\", \"\"),' '], width = 800, height = 500).generate(documentos)\n",
    "    return wordcloud"
   ]
  },
  {
   "cell_type": "code",
   "execution_count": 77,
   "metadata": {},
   "outputs": [
    {
     "data": {
      "image/png": "[encoded data removed]",
      "text/plain": [
       "<Figure size 1600x1200 with 3 Axes>"
      ]
     },
     "metadata": {},
     "output_type": "display_data"
    }
   ],
   "source": [
    "plt.figure(figsize=(16,12))\n",
    "for x in range(0,3):\n",
    "    usuario = top3Menciones['Usuario'][x]\n",
    "    corpusUser = GenerarCorpusNormalizado(corpus,usuario)\n",
    "    corpusUser = Tokenizacion(corpusUser)\n",
    "    corpusUser = RemoveStopWords(corpusUser)\n",
    "    corpusUser = Stemming_Lemmating(corpusUser)\n",
    "    corpusUser = Corpus_to_String(corpusUser)\n",
    "    img = WordToCloud(corpusUser,usuario)\n",
    "    plt.subplot(1,3,x+1)\n",
    "    plt.imshow(img)\n",
    "    plt.axis(\"off\")\n",
    "    plt.title(usuario)    "
   ]
  }
 ],
 "metadata": {
  "kernelspec": {
   "display_name": "Python 3",
   "language": "python",
   "name": "python3"
  },
  "language_info": {
   "codemirror_mode": {
    "name": "ipython",
    "version": 3
   },
   "file_extension": ".py",
   "mimetype": "text/x-python",
   "name": "python",
   "nbconvert_exporter": "python",
   "pygments_lexer": "ipython3",
   "version": "3.12.0"
  }
 },
 "nbformat": 4,
 "nbformat_minor": 2
}
